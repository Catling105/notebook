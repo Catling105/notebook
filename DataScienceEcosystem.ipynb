{
 "cells": [
  {
   "cell_type": "markdown",
   "id": "76412331-e54f-48c7-beaf-4797ce1346b8",
   "metadata": {},
   "source": [
    "# Data Science Tools and Ecosystem #"
   ]
  },
  {
   "cell_type": "markdown",
   "id": "6c35d772-ba43-4660-bb42-829f4fdefcde",
   "metadata": {},
   "source": [
    "In this notebook, Data Science Tools and Ecosystem are summarized."
   ]
  },
  {
   "cell_type": "markdown",
   "id": "e31a30bd-be27-4292-8e4b-ca5d4cfc1095",
   "metadata": {},
   "source": [
    "Some of the popular languages that Data Scientists use are:\n",
    "1. Python\n",
    "2. R\n",
    "3. Java\n",
    "4. C++\n",
    "5. Scala\n",
    "6. Julia"
   ]
  },
  {
   "cell_type": "markdown",
   "id": "3e58104b-6a4d-470a-9fa0-981d79ada4f5",
   "metadata": {},
   "source": [
    "Some of the commonly used libraries used by Data Scientists include:\n",
    "1. Pandas\n",
    "2. Pipenv\n",
    "3. NumPy\n",
    "4. Keras\n",
    "5. TensorFlow\n",
    "6. PyTorch"
   ]
  },
  {
   "cell_type": "markdown",
   "id": "9823bc6a-6330-49cd-ad60-375727149980",
   "metadata": {},
   "source": [
    "\n",
    "---\n",
    "\n",
    "Data Science Tools\n",
    "\n",
    "---\n",
    "\n",
    "| No.1    | Tools Name     | \n",
    "| --------|:---------------| \n",
    "| 1       | Jupyter        | \n",
    "| 2       | TensorFlow     |\n",
    "| 3       | Apache Spark   |"
   ]
  },
  {
   "cell_type": "markdown",
   "id": "a5688b8a-aa86-490b-903a-7199f306f0c1",
   "metadata": {},
   "source": [
    "### Below are a few examples of evaluating arithmetic expressions in Python ###"
   ]
  },
  {
   "cell_type": "code",
   "execution_count": 1,
   "id": "a7064abb-a515-4e70-9613-047e3ce66029",
   "metadata": {},
   "outputs": [
    {
     "data": {
      "text/plain": [
       "17"
      ]
     },
     "execution_count": 1,
     "metadata": {},
     "output_type": "execute_result"
    }
   ],
   "source": [
    "# This a simple arithmetic expression to mutiply then add integers\n",
    "(3*4)+5"
   ]
  },
  {
   "cell_type": "code",
   "execution_count": null,
   "id": "cacfef49-6f2e-4977-9008-4d221cc7c8f5",
   "metadata": {},
   "outputs": [],
   "source": [
    "# This will convert 200 minutes to hours by diving by 60\n",
    "time = float(input(\"Input time in minutes: \"))\n",
    "minutes = time // 60\n",
    "time %= 60\n",
    "print(\"h:m:s-> %d:%d:%d\" % (hour, minutes, seconds))\n"
   ]
  },
  {
   "cell_type": "markdown",
   "id": "0faebb15-be7b-49ca-b5f1-432a20608d7e",
   "metadata": {},
   "source": [
    "__Objectives:__\n",
    "* Understand popular languages for Data Science\n",
    "* Create and configure a Jupyter Notebook\n",
    "* Know the tools for Data Science\n",
    "* Get familiar to the  three popular tools used in data science: GitHub, Jupyter Notebooks, and RStudio\n",
    "* Know the features of Watson Studio"
   ]
  },
  {
   "cell_type": "markdown",
   "id": "ba89b567-0874-4b87-baeb-d304308321e5",
   "metadata": {},
   "source": [
    "## Author ##\n",
    "Catherine Li"
   ]
  },
  {
   "cell_type": "code",
   "execution_count": null,
   "id": "c69b3f30-bf6c-4040-a380-66c38c336ca4",
   "metadata": {},
   "outputs": [],
   "source": []
  }
 ],
 "metadata": {
  "kernelspec": {
   "display_name": "Python",
   "language": "python",
   "name": "conda-env-python-py"
  },
  "language_info": {
   "codemirror_mode": {
    "name": "ipython",
    "version": 3
   },
   "file_extension": ".py",
   "mimetype": "text/x-python",
   "name": "python",
   "nbconvert_exporter": "python",
   "pygments_lexer": "ipython3",
   "version": "3.7.12"
  }
 },
 "nbformat": 4,
 "nbformat_minor": 5
}
